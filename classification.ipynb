{
 "cells": [
  {
   "cell_type": "code",
   "execution_count": 19,
   "metadata": {
    "scrolled": true
   },
   "outputs": [],
   "source": [
    "import numpy as np\n",
    "import tensorflow as tf\n",
    "from tensorflow import keras\n",
    "from tensorflow.keras.layers import Dense\n",
    "from tensorflow.keras.models import Sequential\n",
    "from sklearn import preprocessing\n",
    "from sklearn.model_selection import train_test_split\n",
    "import pydot\n",
    "import graphviz\n",
    "\n",
    "\n",
    "words = [\n",
    "    \"aku suka nonton film avengers\",\n",
    "    \"hari ini olahraga joging saja\",\n",
    "    \"makanan ini enak sekali rasanya\",\n",
    "    \"kucing adalah hewan paling lucu\",\n",
    "    \"aku suka bongkar motor matic\"\n",
    "]\n",
    "\n",
    "label = [[1,0,0,0,0], [0,1,0,0,0], [0,0,1,0,0], [0,0,0,1,0], [0,0,0,0,1]]"
   ]
  },
  {
   "cell_type": "code",
   "execution_count": 20,
   "metadata": {},
   "outputs": [
    {
     "data": {
      "text/plain": [
       "[['aku', 'suka', 'nonton', 'film', 'avengers'],\n",
       " ['hari', 'ini', 'olahraga', 'joging', 'saja'],\n",
       " ['makanan', 'ini', 'enak', 'sekali', 'rasanya'],\n",
       " ['kucing', 'adalah', 'hewan', 'paling', 'lucu'],\n",
       " ['aku', 'suka', 'bongkar', 'motor', 'matic']]"
      ]
     },
     "execution_count": 20,
     "metadata": {},
     "output_type": "execute_result"
    }
   ],
   "source": [
    "from tensorflow.keras.preprocessing.text import Tokenizer\n",
    "words_splited = [word.split(\" \") for word in words]\n",
    "words_splited\n"
   ]
  },
  {
   "cell_type": "code",
   "execution_count": 21,
   "metadata": {},
   "outputs": [
    {
     "data": {
      "text/plain": [
       "[[1, 2, 4, 5, 6],\n",
       " [7, 3, 8, 9, 10],\n",
       " [11, 3, 12, 13, 14],\n",
       " [15, 16, 17, 18, 19],\n",
       " [1, 2, 20, 21, 22]]"
      ]
     },
     "execution_count": 21,
     "metadata": {},
     "output_type": "execute_result"
    }
   ],
   "source": [
    "tzer = Tokenizer()\n",
    "tzer.fit_on_texts(words_splited)\n",
    "words_tokenized=tzer.texts_to_sequences(words_splited)\n",
    "words_tokenized"
   ]
  },
  {
   "cell_type": "code",
   "execution_count": 22,
   "metadata": {},
   "outputs": [
    {
     "data": {
      "text/plain": [
       "['avengers adalah film paling lucu']"
      ]
     },
     "execution_count": 22,
     "metadata": {},
     "output_type": "execute_result"
    }
   ],
   "source": [
    "tzer.sequences_to_texts([[6, 16, 5, 18, 19]])"
   ]
  },
  {
   "cell_type": "code",
   "execution_count": 23,
   "metadata": {},
   "outputs": [
    {
     "name": "stdout",
     "output_type": "stream",
     "text": [
      "[[ 1.  2.  4.  5.  6.]\n",
      " [ 7.  3.  8.  9. 10.]\n",
      " [11.  3. 12. 13. 14.]\n",
      " [15. 16. 17. 18. 19.]\n",
      " [ 1.  2. 20. 21. 22.]] [[1 0 0 0 0]\n",
      " [0 1 0 0 0]\n",
      " [0 0 1 0 0]\n",
      " [0 0 0 1 0]\n",
      " [0 0 0 0 1]]\n"
     ]
    }
   ],
   "source": [
    "X = []\n",
    "y = np.array(label)\n",
    "for wt in words_tokenized:\n",
    "    ph = np.zeros(5)\n",
    "    ph[:len(wt)] = wt\n",
    "    X.append(ph)\n",
    "X = np.array(X)\n",
    "\n",
    "print(X, y)"
   ]
  },
  {
   "cell_type": "code",
   "execution_count": 24,
   "metadata": {},
   "outputs": [
    {
     "data": {
      "text/plain": [
       "((5, 5), (5, 5))"
      ]
     },
     "execution_count": 24,
     "metadata": {},
     "output_type": "execute_result"
    }
   ],
   "source": [
    "X.shape, y.shape"
   ]
  },
  {
   "cell_type": "code",
   "execution_count": 25,
   "metadata": {},
   "outputs": [
    {
     "name": "stdout",
     "output_type": "stream",
     "text": [
      "Model: \"sequential_2\"\n",
      "_________________________________________________________________\n",
      "Layer (type)                 Output Shape              Param #   \n",
      "=================================================================\n",
      "dense_6 (Dense)              (None, 20)                120       \n",
      "_________________________________________________________________\n",
      "dense_7 (Dense)              (None, 15)                315       \n",
      "_________________________________________________________________\n",
      "dense_8 (Dense)              (None, 5)                 80        \n",
      "=================================================================\n",
      "Total params: 515\n",
      "Trainable params: 515\n",
      "Non-trainable params: 0\n",
      "_________________________________________________________________\n"
     ]
    }
   ],
   "source": [
    "model = Sequential()\n",
    "model.add(Dense(20, input_dim=5, kernel_initializer='he_uniform', activation='relu'))\n",
    "model.add(Dense(15, activation=\"relu\"))\n",
    "model.add(Dense(5, activation='sigmoid'))\n",
    "model.compile(loss='binary_crossentropy', optimizer='adam')\n",
    "model.summary()"
   ]
  },
  {
   "cell_type": "code",
   "execution_count": 29,
   "metadata": {},
   "outputs": [
    {
     "name": "stdout",
     "output_type": "stream",
     "text": [
      "('Failed to import pydot. You must `pip install pydot` and install graphviz (https://graphviz.gitlab.io/download/), ', 'for `pydotprint` to work.')\n"
     ]
    }
   ],
   "source": [
    "keras.utils.plot_model(model, show_shapes=True, show_layer_names=True, expand_nested=True)"
   ]
  },
  {
   "cell_type": "code",
   "execution_count": 28,
   "metadata": {},
   "outputs": [
    {
     "name": "stdout",
     "output_type": "stream",
     "text": [
      "1/1 [==============================] - 0s 1ms/step - loss: 0.0936\n"
     ]
    },
    {
     "data": {
      "text/plain": [
       "0.0936172753572464"
      ]
     },
     "execution_count": 28,
     "metadata": {},
     "output_type": "execute_result"
    }
   ],
   "source": [
    "from sklearn.model_selection import RepeatedKFold\n",
    "from sklearn.metrics import accuracy_score\n",
    "import os\n",
    "import pickle\n",
    "\n",
    "model.fit(X, y, verbose=0, batch_size=2, epochs=500)\n",
    "\n",
    "model.evaluate(X, y)"
   ]
  },
  {
   "cell_type": "code",
   "execution_count": 17,
   "metadata": {},
   "outputs": [
    {
     "data": {
      "text/plain": [
       "array(['film'], dtype='<U8')"
      ]
     },
     "execution_count": 17,
     "metadata": {},
     "output_type": "execute_result"
    }
   ],
   "source": [
    "lb = preprocessing.LabelBinarizer()\n",
    "hasil = lb.fit(['film', 'olahraga', 'makanan', 'hewan', 'otomotif'])\n",
    "\n",
    "yhat = model.predict(tzer.texts_to_sequences([\"avengers adalah film paling lucu\".split(\" \")]))\n",
    "yhat\n",
    "np.round(yhat)[0]\n",
    "yhat = lb.inverse_transform(yhat, threshold=None)\n",
    "yhat"
   ]
  },
  {
   "cell_type": "code",
   "execution_count": 18,
   "metadata": {},
   "outputs": [
    {
     "data": {
      "text/plain": [
       "array(['makanan'], dtype='<U8')"
      ]
     },
     "execution_count": 18,
     "metadata": {},
     "output_type": "execute_result"
    }
   ],
   "source": [
    "lb = preprocessing.LabelBinarizer()\n",
    "hasil = lb.fit(['film', 'olahraga', 'makanan', 'hewan', 'otomotif'])\n",
    "\n",
    "yhat = model.predict(tzer.texts_to_sequences([\"kucing suka makanan enak sekali\".split(\" \")]))\n",
    "yhat\n",
    "np.round(yhat)[0]\n",
    "yhat = lb.inverse_transform(yhat, threshold=None)\n",
    "yhat"
   ]
  },
  {
   "cell_type": "code",
   "execution_count": null,
   "metadata": {},
   "outputs": [],
   "source": []
  }
 ],
 "metadata": {
  "kernelspec": {
   "display_name": "Python 3",
   "language": "python",
   "name": "python3"
  },
  "language_info": {
   "codemirror_mode": {
    "name": "ipython",
    "version": 3
   },
   "file_extension": ".py",
   "mimetype": "text/x-python",
   "name": "python",
   "nbconvert_exporter": "python",
   "pygments_lexer": "ipython3",
   "version": "3.8.6"
  }
 },
 "nbformat": 4,
 "nbformat_minor": 4
}
